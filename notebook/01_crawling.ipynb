{
 "cells": [
  {
   "cell_type": "markdown",
   "metadata": {},
   "source": [
    "# 1. Crawling\n",
    "\n",
    "stackexchange의 API를 이용하여 Q&A가 site별로 구분되어있어서 사이트의 category로 데이터를 수집합니다.\n",
    "site 주제들 중 law를 이용하여 질문과 답변, 코멘트 데이터를 수집하도록 하겠습니다. 추가적으로 tag정보도 수집하여 사용하겠습니다.\n",
    "\n",
    "API_KEY는 https://stackapps.com/apps/oauth/register 에서 새 애플리케이션을 등록 후 얻을 수 있습니다. 아래 정보를 입력해서 KEY를 얻습니다.\n",
    "OAUTH Domain: stackexchange.com\n",
    "Application Website: https://stackapps.com "
   ]
  },
  {
   "cell_type": "code",
   "execution_count": null,
   "metadata": {},
   "outputs": [],
   "source": [
    "import os\n",
    "import itertools\n",
    "import requests\n",
    "import json\n",
    "import re\n",
    "import glob\n",
    "import tempfile\n",
    "\n",
    "\n",
    "from tqdm import tqdm\n",
    "from dotenv import load_dotenv\n",
    "load_dotenv()\n",
    "STACKEXCHANGE_API_KEY=os.environ.get('STACKEXCHANGE_API_KEY', None)"
   ]
  },
  {
   "cell_type": "code",
   "execution_count": null,
   "metadata": {},
   "outputs": [],
   "source": [
    "def get_requests(api_url, params=None):\n",
    "    data = None\n",
    "    if STACKEXCHANGE_API_KEY:\n",
    "        if params is None:\n",
    "            params = {}\n",
    "        params['key'] = STACKEXCHANGE_API_KEY\n",
    "    response = requests.get(api_url, params=params)\n",
    "    if response.status_code == 200:\n",
    "        data = response.json()\n",
    "    return data"
   ]
  },
  {
   "cell_type": "markdown",
   "metadata": {},
   "source": [
    "### stackexchange에 있는 주제 리스트업\n",
    "\n",
    "아래 코드는 가능한 api site의 parameter들을 text파일에 입력을 넣어주는 코드입니다."
   ]
  },
  {
   "cell_type": "code",
   "execution_count": null,
   "metadata": {},
   "outputs": [
    {
     "name": "stdout",
     "output_type": "stream",
     "text": [
      "stackoverflow\n",
      "serverfault\n",
      "superuser\n",
      "meta\n",
      "webapps\n",
      "webapps.meta\n",
      "gaming\n",
      "gaming.meta\n",
      "webmasters\n",
      "webmasters.meta\n",
      "cooking\n",
      "cooking.meta\n",
      "gamedev\n",
      "gamedev.meta\n",
      "photo\n",
      "photo.meta\n",
      "stats\n",
      "stats.meta\n",
      "math\n",
      "math.meta\n",
      "diy\n",
      "diy.meta\n",
      "meta.superuser\n",
      "meta.serverfault\n",
      "gis\n",
      "gis.meta\n",
      "tex\n",
      "tex.meta\n",
      "askubuntu\n",
      "meta.askubuntu\n",
      "money\n",
      "money.meta\n",
      "english\n",
      "english.meta\n",
      "stackapps\n",
      "ux\n",
      "ux.meta\n",
      "unix\n",
      "unix.meta\n",
      "wordpress\n",
      "wordpress.meta\n",
      "cstheory\n",
      "cstheory.meta\n",
      "apple\n",
      "apple.meta\n",
      "rpg\n",
      "rpg.meta\n",
      "bicycles\n",
      "bicycles.meta\n",
      "softwareengineering\n",
      "softwareengineering.meta\n",
      "electronics\n",
      "electronics.meta\n",
      "android\n",
      "android.meta\n",
      "boardgames\n",
      "boardgames.meta\n",
      "physics\n",
      "physics.meta\n",
      "homebrew\n",
      "homebrew.meta\n",
      "security\n",
      "security.meta\n",
      "writing\n",
      "writing.meta\n",
      "video\n",
      "video.meta\n",
      "graphicdesign\n",
      "graphicdesign.meta\n",
      "dba\n",
      "dba.meta\n",
      "scifi\n",
      "scifi.meta\n",
      "codereview\n",
      "codereview.meta\n",
      "codegolf\n",
      "codegolf.meta\n",
      "quant\n",
      "quant.meta\n",
      "pm\n",
      "pm.meta\n",
      "skeptics\n",
      "skeptics.meta\n",
      "fitness\n",
      "fitness.meta\n",
      "drupal\n",
      "drupal.meta\n",
      "mechanics\n",
      "mechanics.meta\n",
      "parenting\n",
      "parenting.meta\n",
      "sharepoint\n",
      "sharepoint.meta\n",
      "music\n",
      "music.meta\n",
      "sqa\n",
      "sqa.meta\n",
      "judaism\n",
      "judaism.meta\n",
      "german\n",
      "\n"
     ]
    }
   ],
   "source": [
    "\n",
    "api_url = \"https://api.stackexchange.com/2.3/sites\"\n",
    "data = get_requests(api_url, params={\"pagesize\": 100, \"page\": 1})\n",
    "# print(data['items'][0].keys())\n",
    "with open(\"api_site_parameter.txt\", 'w') as f:\n",
    "    f.writelines([site['api_site_parameter'] + '\\n' for site in data['items']])\n",
    "with open(\"api_site_parameter.txt\", 'r') as f:\n",
    "    print(f.read())"
   ]
  },
  {
   "cell_type": "code",
   "execution_count": null,
   "metadata": {},
   "outputs": [
    {
     "data": {
      "text/plain": [
       "{'items': [{'new_active_users': 1,\n",
       "   'total_users': 43005,\n",
       "   'badges_per_minute': 0.02,\n",
       "   'total_badges': 84686,\n",
       "   'total_votes': 319063,\n",
       "   'total_comments': 181008,\n",
       "   'answers_per_minute': 0.01,\n",
       "   'questions_per_minute': 0.01,\n",
       "   'total_answers': 42491,\n",
       "   'total_accepted': 12072,\n",
       "   'total_unanswered': 2745,\n",
       "   'total_questions': 28672,\n",
       "   'api_revision': '2023.11.8.42135'}],\n",
       " 'has_more': False,\n",
       " 'quota_max': 10000,\n",
       " 'quota_remaining': 6683}"
      ]
     },
     "metadata": {},
     "output_type": "display_data"
    }
   ],
   "source": [
    "SITE = 'law'\n",
    "# get information about the SITE\n",
    "data = get_requests(f\"https://api.stackexchange.com/2.3/info?site={SITE}\")\n",
    "data"
   ]
  },
  {
   "cell_type": "markdown",
   "metadata": {},
   "source": [
    "아래 코드들은 question, comment, answer를 stackexchange api [사이트](https://api.stackexchange.com/)에서 가져옵니다.\n",
    "filter부분에 필요한 속성의 데이터를 선택하여 api주소를 만들어 사용하였습니다. [Question API](https://api.stackexchange.com/docs/questions)\n",
    "\n",
    "가져온 데이터에서 실제로 필요하다고 판단되는 데이터들의 key를 아래 변수에 저장하여서 해당 key만 추출하여 json형태로 저장하는 코드입니다."
   ]
  },
  {
   "cell_type": "code",
   "execution_count": null,
   "metadata": {},
   "outputs": [],
   "source": [
    "json_path_template = f\"../data/{SITE}_stackexchange/raw/\" + \"{page_num}.json\"\n",
    "os.makedirs(os.path.dirname(json_path_template), exist_ok=True)\n",
    "has_more = True\n",
    "page_num = 0  # total number of pages\n",
    "page_num = 287  # total number of pages commented out to fetch again\n",
    "while has_more:\n",
    "    page_num += 1\n",
    "    query_url = (\n",
    "        \"https://api.stackexchange.com\"\n",
    "        + \"/2.3/questions?page=\"\n",
    "        + str(page_num)\n",
    "        + \"&pagesize=100&order=desc&sort=activity&site=\"\n",
    "        + SITE\n",
    "        + \"&filter=!*Mg4PjfgUgTmRZV1\"\n",
    "        + \"&key=\"\n",
    "        + STACKEXCHANGE_API_KEY\n",
    "    )\n",
    "    data = requests.get(query_url).json()\n",
    "    if len(data.get(\"items\", [])) > 0:\n",
    "        with open(json_path_template.format(page_num=page_num), \"w\") as f:\n",
    "            json.dump(data, f, indent=4)\n",
    "        print(\"DONE\", json_path_template.format(page_num=page_num))\n",
    "    has_more = data.get(\"has_more\", False)"
   ]
  },
  {
   "cell_type": "code",
   "execution_count": null,
   "metadata": {},
   "outputs": [],
   "source": [
    "num_samples_valid = 0\n",
    "num_accepted_samples = 0\n",
    "for json_path in glob.glob(f\"../data/{SITE}_stackexchange/raw/*.json\"):\n",
    "    with open(json_path, 'r') as f:\n",
    "        data = json.load(f)\n",
    "    \n",
    "    for question in data['items']:\n",
    "        if question['is_answered'] and question['answer_count'] > 0:\n",
    "            answers = question['answers']\n",
    "            if question.get('accepted_answer_id', None) is not None:\n",
    "                num_accepted_samples += 1\n",
    "            if len(answers) > 0:\n",
    "                num_samples_valid += 1\n",
    "print(\"samples answered\", num_samples_valid, 'accepted', num_accepted_samples)"
   ]
  }
 ],
 "metadata": {
  "kernelspec": {
   "display_name": "Python 3",
   "language": "python",
   "name": "python3"
  },
  "language_info": {
   "codemirror_mode": {
    "name": "ipython",
    "version": 3
   },
   "file_extension": ".py",
   "mimetype": "text/x-python",
   "name": "python",
   "nbconvert_exporter": "python",
   "pygments_lexer": "ipython3",
   "version": "3.10.12"
  }
 },
 "nbformat": 4,
 "nbformat_minor": 2
}
